{
 "cells": [
  {
   "cell_type": "code",
   "execution_count": null,
   "id": "e2ac93a1",
   "metadata": {},
   "outputs": [
    {
     "name": "stdout",
     "output_type": "stream",
     "text": [
      " * Serving Flask app \"__main__\" (lazy loading)\n",
      " * Environment: production\n",
      "\u001b[31m   WARNING: This is a development server. Do not use it in a production deployment.\u001b[0m\n",
      "\u001b[2m   Use a production WSGI server instead.\u001b[0m\n",
      " * Debug mode: off\n"
     ]
    },
    {
     "name": "stderr",
     "output_type": "stream",
     "text": [
      " * Running on http://127.0.0.1:5000/ (Press CTRL+C to quit)\n",
      "127.0.0.1 - - [20/Nov/2022 16:19:57] \"GET / HTTP/1.1\" 404 -\n",
      "[2022-11-20 16:20:02,141] ERROR in app: Exception on /akash [GET]\n",
      "Traceback (most recent call last):\n",
      "  File \"C:\\Users\\ishup\\anaconda3\\lib\\site-packages\\flask\\app.py\", line 2447, in wsgi_app\n",
      "    response = self.full_dispatch_request()\n",
      "  File \"C:\\Users\\ishup\\anaconda3\\lib\\site-packages\\flask\\app.py\", line 1952, in full_dispatch_request\n",
      "    rv = self.handle_user_exception(e)\n",
      "  File \"C:\\Users\\ishup\\anaconda3\\lib\\site-packages\\flask\\app.py\", line 1821, in handle_user_exception\n",
      "    reraise(exc_type, exc_value, tb)\n",
      "  File \"C:\\Users\\ishup\\anaconda3\\lib\\site-packages\\flask\\_compat.py\", line 39, in reraise\n",
      "    raise value\n",
      "  File \"C:\\Users\\ishup\\anaconda3\\lib\\site-packages\\flask\\app.py\", line 1950, in full_dispatch_request\n",
      "    rv = self.dispatch_request()\n",
      "  File \"C:\\Users\\ishup\\anaconda3\\lib\\site-packages\\flask\\app.py\", line 1936, in dispatch_request\n",
      "    return self.view_functions[rule.endpoint](**req.view_args)\n",
      "  File \"C:\\Users\\ishup\\AppData\\Local\\Temp\\ipykernel_18324\\3918307904.py\", line 31, in hello\n",
      "    return test()\n",
      "  File \"C:\\Users\\ishup\\AppData\\Local\\Temp\\ipykernel_18324\\3918307904.py\", line 25, in test\n",
      "    weight=optimizer)\n",
      "NameError: name 'optimizer' is not defined\n",
      "127.0.0.1 - - [20/Nov/2022 16:20:02] \"GET /akash HTTP/1.1\" 500 -\n"
     ]
    }
   ],
   "source": [
    "import requests\n",
    "from flask import Flask\n",
    "import osmnx as ox\n",
    "import folium\n",
    "import geopy\n",
    "import geopandas\n",
    "from geopy.extra.rate_limiter import RateLimiter\n",
    "from geopy.geocoders import Nominatim\n",
    "import networkx as nx\n",
    "import pickle\n",
    "graph = pickle.load(open('graph.pickle','rb'))\n",
    "def test():\n",
    "    locator = Nominatim(user_agent=\"myGeocoder\")\n",
    "    location = locator.geocode(\"Belmont, United States of America\")\n",
    "    sx=location.latitude\n",
    "    sy = location.longitude\n",
    "    loca = locator.geocode(\"Midwood, United States of America\")\n",
    "    ex = loca.latitude\n",
    "    ey = loca.longitude\n",
    "    orig_node = ox.nearest_nodes(graph, sx,sy)\n",
    "    dest_node = ox.nearest_nodes(graph, ex,ey)\n",
    "    shortest_route = nx.shortest_path(graph,\n",
    "                                  orig_node,\n",
    "                                  dest_node,\n",
    "                                  weight=optimizer)\n",
    "    return str(shortest_route)\n",
    "\n",
    "app = Flask(__name__)\n",
    "@app.route('/akash')\n",
    "def hello():\n",
    "    return test()\n",
    "if __name__ == '__main__':\n",
    "    app.run()"
   ]
  },
  {
   "cell_type": "code",
   "execution_count": null,
   "id": "bd8f295c",
   "metadata": {},
   "outputs": [],
   "source": []
  }
 ],
 "metadata": {
  "kernelspec": {
   "display_name": "Python 3 (ipykernel)",
   "language": "python",
   "name": "python3"
  },
  "language_info": {
   "codemirror_mode": {
    "name": "ipython",
    "version": 3
   },
   "file_extension": ".py",
   "mimetype": "text/x-python",
   "name": "python",
   "nbconvert_exporter": "python",
   "pygments_lexer": "ipython3",
   "version": "3.9.13"
  }
 },
 "nbformat": 4,
 "nbformat_minor": 5
}
