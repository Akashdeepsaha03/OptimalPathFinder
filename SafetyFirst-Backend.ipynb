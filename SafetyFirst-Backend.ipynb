{
 "cells": [
  {
   "cell_type": "code",
   "execution_count": null,
   "id": "e2ac93a1",
   "metadata": {},
   "outputs": [
    {
     "name": "stdout",
     "output_type": "stream",
     "text": [
      " * Serving Flask app \"__main__\" (lazy loading)\n",
      " * Environment: production\n",
      "\u001b[31m   WARNING: This is a development server. Do not use it in a production deployment.\u001b[0m\n",
      "\u001b[2m   Use a production WSGI server instead.\u001b[0m\n",
      " * Debug mode: off\n"
     ]
    },
    {
     "name": "stderr",
     "output_type": "stream",
     "text": [
      " * Running on http://127.0.0.1:5000/ (Press CTRL+C to quit)\n",
      "127.0.0.1 - - [20/Nov/2022 16:30:15] \"GET / HTTP/1.1\" 404 -\n",
      "127.0.0.1 - - [20/Nov/2022 16:30:22] \"GET /akash HTTP/1.1\" 200 -\n"
     ]
    }
   ],
   "source": [
    "import requests\n",
    "from flask import Flask\n",
    "import osmnx as ox\n",
    "import folium\n",
    "import geopy\n",
    "import geopandas\n",
    "from geopy.extra.rate_limiter import RateLimiter\n",
    "from geopy.geocoders import Nominatim\n",
    "import networkx as nx\n",
    "import pickle\n",
    "graph = pickle.load(open('graph.pickle','rb'))\n",
    "\n",
    "def test(source,destination):\n",
    "    locator = Nominatim(user_agent=\"myGeocoder\")\n",
    "    location = locator.geocode(source)\n",
    "    sx=location.latitude\n",
    "    sy = location.longitude\n",
    "    loca = locator.geocode(destination)\n",
    "    ex = loca.latitude\n",
    "    ey = loca.longitude\n",
    "    orig_node = ox.nearest_nodes(graph, sx,sy)\n",
    "    dest_node = ox.nearest_nodes(graph, ex,ey)\n",
    "    shortest_route = nx.shortest_path(graph,\n",
    "                                  orig_node,\n",
    "                                  dest_node,\n",
    "                                  weight='time')\n",
    "    return str(shortest_route)\n",
    "\n",
    "app = Flask(__name__)\n",
    "@app.route('/xyz')\n",
    "def input_taken():\n",
    "    source = requests.form['handle']\n",
    "    destination = requests.form['handle2']\n",
    "    return test(source,destination)\n",
    "@app.route('/akash')\n",
    "def hello():\n",
    "    return test('Belmont, United States','Midwood, United States')\n",
    "if __name__ == '__main__':\n",
    "    app.run()"
   ]
  },
  {
   "cell_type": "code",
   "execution_count": null,
   "id": "088c08ea",
   "metadata": {},
   "outputs": [],
   "source": []
  }
 ],
 "metadata": {
  "kernelspec": {
   "display_name": "Python 3 (ipykernel)",
   "language": "python",
   "name": "python3"
  },
  "language_info": {
   "codemirror_mode": {
    "name": "ipython",
    "version": 3
   },
   "file_extension": ".py",
   "mimetype": "text/x-python",
   "name": "python",
   "nbconvert_exporter": "python",
   "pygments_lexer": "ipython3",
   "version": "3.9.13"
  }
 },
 "nbformat": 4,
 "nbformat_minor": 5
}
